{
 "cells": [
  {
   "cell_type": "markdown",
   "metadata": {},
   "source": [
    "# Seoul Bike Data Project (Part 2)\n",
    "In the previous notebook we focused on exploratory data analysis and feature engineering. In this part we train various machine learning models, including: \n",
    "- XGBoost\n",
    "- Random forests \n",
    "- Neural networks\n",
    "\n",
    "We use scikit-learn and PyTorch along the way and also look at the importance of various features in our data set based on the output of the aforementioned methods. Let's get started!"
   ]
  },
  {
   "cell_type": "markdown",
   "metadata": {},
   "source": [
    "In this notebook we will use the packages from Part 1, along with XGBoost and PyTorch. Let's make sure we have these packages before proceeding."
   ]
  },
  {
   "cell_type": "code",
   "execution_count": 76,
   "metadata": {},
   "outputs": [],
   "source": [
    "# !pip install xgboost torch\n",
    "# !pip install joblib"
   ]
  },
  {
   "cell_type": "markdown",
   "metadata": {},
   "source": [
    "\n",
    "## Model Training and Evaluation"
   ]
  },
  {
   "cell_type": "markdown",
   "metadata": {},
   "source": [
    "We need to load our processed data from the first notebook. Let's do that right now :)"
   ]
  },
  {
   "cell_type": "code",
   "execution_count": 77,
   "metadata": {},
   "outputs": [
    {
     "data": {
      "text/html": [
       "<div>\n",
       "<style scoped>\n",
       "    .dataframe tbody tr th:only-of-type {\n",
       "        vertical-align: middle;\n",
       "    }\n",
       "\n",
       "    .dataframe tbody tr th {\n",
       "        vertical-align: top;\n",
       "    }\n",
       "\n",
       "    .dataframe thead th {\n",
       "        text-align: right;\n",
       "    }\n",
       "</style>\n",
       "<table border=\"1\" class=\"dataframe\">\n",
       "  <thead>\n",
       "    <tr style=\"text-align: right;\">\n",
       "      <th></th>\n",
       "      <th>Date</th>\n",
       "      <th>Rented Bike Count</th>\n",
       "      <th>Hour</th>\n",
       "      <th>Temperature(°C)</th>\n",
       "      <th>Humidity(%)</th>\n",
       "      <th>Wind speed (m/s)</th>\n",
       "      <th>Visibility (10m)</th>\n",
       "      <th>Dew point temperature(°C)</th>\n",
       "      <th>Solar Radiation (MJ/m2)</th>\n",
       "      <th>Rainfall(mm)</th>\n",
       "      <th>...</th>\n",
       "      <th>Solar Radiation (MJ/m2)_normalized</th>\n",
       "      <th>Rainfall(mm)_normalized</th>\n",
       "      <th>Snowfall (cm)_normalized</th>\n",
       "      <th>Year</th>\n",
       "      <th>Day</th>\n",
       "      <th>Seasons_Spring</th>\n",
       "      <th>Seasons_Summer</th>\n",
       "      <th>Seasons_Winter</th>\n",
       "      <th>Holiday_No Holiday</th>\n",
       "      <th>Functioning Day_Yes</th>\n",
       "    </tr>\n",
       "  </thead>\n",
       "  <tbody>\n",
       "    <tr>\n",
       "      <th>0</th>\n",
       "      <td>2017-12-01</td>\n",
       "      <td>254</td>\n",
       "      <td>0</td>\n",
       "      <td>-5.2</td>\n",
       "      <td>37</td>\n",
       "      <td>2.2</td>\n",
       "      <td>2000</td>\n",
       "      <td>-17.6</td>\n",
       "      <td>0.0</td>\n",
       "      <td>0.0</td>\n",
       "      <td>...</td>\n",
       "      <td>-0.655132</td>\n",
       "      <td>-0.1318</td>\n",
       "      <td>-0.171891</td>\n",
       "      <td>2017</td>\n",
       "      <td>1</td>\n",
       "      <td>False</td>\n",
       "      <td>False</td>\n",
       "      <td>True</td>\n",
       "      <td>True</td>\n",
       "      <td>True</td>\n",
       "    </tr>\n",
       "    <tr>\n",
       "      <th>1</th>\n",
       "      <td>2017-12-01</td>\n",
       "      <td>204</td>\n",
       "      <td>1</td>\n",
       "      <td>-5.5</td>\n",
       "      <td>38</td>\n",
       "      <td>0.8</td>\n",
       "      <td>2000</td>\n",
       "      <td>-17.6</td>\n",
       "      <td>0.0</td>\n",
       "      <td>0.0</td>\n",
       "      <td>...</td>\n",
       "      <td>-0.655132</td>\n",
       "      <td>-0.1318</td>\n",
       "      <td>-0.171891</td>\n",
       "      <td>2017</td>\n",
       "      <td>1</td>\n",
       "      <td>False</td>\n",
       "      <td>False</td>\n",
       "      <td>True</td>\n",
       "      <td>True</td>\n",
       "      <td>True</td>\n",
       "    </tr>\n",
       "    <tr>\n",
       "      <th>2</th>\n",
       "      <td>2017-12-01</td>\n",
       "      <td>173</td>\n",
       "      <td>2</td>\n",
       "      <td>-6.0</td>\n",
       "      <td>39</td>\n",
       "      <td>1.0</td>\n",
       "      <td>2000</td>\n",
       "      <td>-17.7</td>\n",
       "      <td>0.0</td>\n",
       "      <td>0.0</td>\n",
       "      <td>...</td>\n",
       "      <td>-0.655132</td>\n",
       "      <td>-0.1318</td>\n",
       "      <td>-0.171891</td>\n",
       "      <td>2017</td>\n",
       "      <td>1</td>\n",
       "      <td>False</td>\n",
       "      <td>False</td>\n",
       "      <td>True</td>\n",
       "      <td>True</td>\n",
       "      <td>True</td>\n",
       "    </tr>\n",
       "    <tr>\n",
       "      <th>3</th>\n",
       "      <td>2017-12-01</td>\n",
       "      <td>107</td>\n",
       "      <td>3</td>\n",
       "      <td>-6.2</td>\n",
       "      <td>40</td>\n",
       "      <td>0.9</td>\n",
       "      <td>2000</td>\n",
       "      <td>-17.6</td>\n",
       "      <td>0.0</td>\n",
       "      <td>0.0</td>\n",
       "      <td>...</td>\n",
       "      <td>-0.655132</td>\n",
       "      <td>-0.1318</td>\n",
       "      <td>-0.171891</td>\n",
       "      <td>2017</td>\n",
       "      <td>1</td>\n",
       "      <td>False</td>\n",
       "      <td>False</td>\n",
       "      <td>True</td>\n",
       "      <td>True</td>\n",
       "      <td>True</td>\n",
       "    </tr>\n",
       "    <tr>\n",
       "      <th>4</th>\n",
       "      <td>2017-12-01</td>\n",
       "      <td>78</td>\n",
       "      <td>4</td>\n",
       "      <td>-6.0</td>\n",
       "      <td>36</td>\n",
       "      <td>2.3</td>\n",
       "      <td>2000</td>\n",
       "      <td>-18.6</td>\n",
       "      <td>0.0</td>\n",
       "      <td>0.0</td>\n",
       "      <td>...</td>\n",
       "      <td>-0.655132</td>\n",
       "      <td>-0.1318</td>\n",
       "      <td>-0.171891</td>\n",
       "      <td>2017</td>\n",
       "      <td>1</td>\n",
       "      <td>False</td>\n",
       "      <td>False</td>\n",
       "      <td>True</td>\n",
       "      <td>True</td>\n",
       "      <td>True</td>\n",
       "    </tr>\n",
       "  </tbody>\n",
       "</table>\n",
       "<p>5 rows × 28 columns</p>\n",
       "</div>"
      ],
      "text/plain": [
       "         Date  Rented Bike Count  Hour  Temperature(°C)  Humidity(%)  \\\n",
       "0  2017-12-01                254     0             -5.2           37   \n",
       "1  2017-12-01                204     1             -5.5           38   \n",
       "2  2017-12-01                173     2             -6.0           39   \n",
       "3  2017-12-01                107     3             -6.2           40   \n",
       "4  2017-12-01                 78     4             -6.0           36   \n",
       "\n",
       "   Wind speed (m/s)  Visibility (10m)  Dew point temperature(°C)  \\\n",
       "0               2.2              2000                      -17.6   \n",
       "1               0.8              2000                      -17.6   \n",
       "2               1.0              2000                      -17.7   \n",
       "3               0.9              2000                      -17.6   \n",
       "4               2.3              2000                      -18.6   \n",
       "\n",
       "   Solar Radiation (MJ/m2)  Rainfall(mm)  ...  \\\n",
       "0                      0.0           0.0  ...   \n",
       "1                      0.0           0.0  ...   \n",
       "2                      0.0           0.0  ...   \n",
       "3                      0.0           0.0  ...   \n",
       "4                      0.0           0.0  ...   \n",
       "\n",
       "   Solar Radiation (MJ/m2)_normalized  Rainfall(mm)_normalized  \\\n",
       "0                           -0.655132                  -0.1318   \n",
       "1                           -0.655132                  -0.1318   \n",
       "2                           -0.655132                  -0.1318   \n",
       "3                           -0.655132                  -0.1318   \n",
       "4                           -0.655132                  -0.1318   \n",
       "\n",
       "   Snowfall (cm)_normalized  Year  Day  Seasons_Spring  Seasons_Summer  \\\n",
       "0                 -0.171891  2017    1           False           False   \n",
       "1                 -0.171891  2017    1           False           False   \n",
       "2                 -0.171891  2017    1           False           False   \n",
       "3                 -0.171891  2017    1           False           False   \n",
       "4                 -0.171891  2017    1           False           False   \n",
       "\n",
       "   Seasons_Winter  Holiday_No Holiday  Functioning Day_Yes  \n",
       "0            True                True                 True  \n",
       "1            True                True                 True  \n",
       "2            True                True                 True  \n",
       "3            True                True                 True  \n",
       "4            True                True                 True  \n",
       "\n",
       "[5 rows x 28 columns]"
      ]
     },
     "execution_count": 77,
     "metadata": {},
     "output_type": "execute_result"
    }
   ],
   "source": [
    "import pandas as pd\n",
    "data = pd.read_csv('seoul_processed.csv')\n",
    "data.head()"
   ]
  },
  {
   "cell_type": "markdown",
   "metadata": {},
   "source": [
    "Let's start by splitting our data set into training and test sets."
   ]
  },
  {
   "cell_type": "code",
   "execution_count": 78,
   "metadata": {},
   "outputs": [],
   "source": [
    "from sklearn.model_selection import train_test_split\n",
    "\n",
    "# Define features\n",
    "X = data.drop(['Rented Bike Count', 'Date'], axis=1) # remove 'date' -> encoded in day, month, year\n",
    "\n",
    "# Also remove continuous vars that are not normalized\n",
    "continuous_vars = ['Temperature(°C)', 'Humidity(%)', 'Wind speed (m/s)', \n",
    "                       'Visibility (10m)', 'Dew point temperature(°C)', \n",
    "                       'Solar Radiation (MJ/m2)', 'Rainfall(mm)', 'Snowfall (cm)']\n",
    "X = X.drop(continuous_vars, axis = 1)\n",
    "\n",
    "# Define target variable\n",
    "y = data['Rented Bike Count']\n",
    "\n",
    "# Split the data\n",
    "X_train, X_test, y_train, y_test = train_test_split(X, y, test_size=0.2, random_state=42)"
   ]
  },
  {
   "cell_type": "markdown",
   "metadata": {},
   "source": [
    "Let's just make sure that we have successfully dropped the non-normalized variables and our response variable:"
   ]
  },
  {
   "cell_type": "code",
   "execution_count": 79,
   "metadata": {},
   "outputs": [
    {
     "data": {
      "text/html": [
       "<div>\n",
       "<style scoped>\n",
       "    .dataframe tbody tr th:only-of-type {\n",
       "        vertical-align: middle;\n",
       "    }\n",
       "\n",
       "    .dataframe tbody tr th {\n",
       "        vertical-align: top;\n",
       "    }\n",
       "\n",
       "    .dataframe thead th {\n",
       "        text-align: right;\n",
       "    }\n",
       "</style>\n",
       "<table border=\"1\" class=\"dataframe\">\n",
       "  <thead>\n",
       "    <tr style=\"text-align: right;\">\n",
       "      <th></th>\n",
       "      <th>Hour</th>\n",
       "      <th>Month</th>\n",
       "      <th>Weekday</th>\n",
       "      <th>Temperature(°C)_normalized</th>\n",
       "      <th>Humidity(%)_normalized</th>\n",
       "      <th>Wind speed (m/s)_normalized</th>\n",
       "      <th>Visibility (10m)_normalized</th>\n",
       "      <th>Dew point temperature(°C)_normalized</th>\n",
       "      <th>Solar Radiation (MJ/m2)_normalized</th>\n",
       "      <th>Rainfall(mm)_normalized</th>\n",
       "      <th>Snowfall (cm)_normalized</th>\n",
       "      <th>Year</th>\n",
       "      <th>Day</th>\n",
       "      <th>Seasons_Spring</th>\n",
       "      <th>Seasons_Summer</th>\n",
       "      <th>Seasons_Winter</th>\n",
       "      <th>Holiday_No Holiday</th>\n",
       "      <th>Functioning Day_Yes</th>\n",
       "    </tr>\n",
       "  </thead>\n",
       "  <tbody>\n",
       "    <tr>\n",
       "      <th>8415</th>\n",
       "      <td>15</td>\n",
       "      <td>11</td>\n",
       "      <td>4</td>\n",
       "      <td>0.026547</td>\n",
       "      <td>0.136227</td>\n",
       "      <td>2.099021</td>\n",
       "      <td>-1.180122</td>\n",
       "      <td>0.132177</td>\n",
       "      <td>0.530553</td>\n",
       "      <td>-0.1318</td>\n",
       "      <td>-0.171891</td>\n",
       "      <td>2018</td>\n",
       "      <td>16</td>\n",
       "      <td>False</td>\n",
       "      <td>False</td>\n",
       "      <td>False</td>\n",
       "      <td>True</td>\n",
       "      <td>True</td>\n",
       "    </tr>\n",
       "    <tr>\n",
       "      <th>5049</th>\n",
       "      <td>9</td>\n",
       "      <td>6</td>\n",
       "      <td>4</td>\n",
       "      <td>0.838660</td>\n",
       "      <td>1.364049</td>\n",
       "      <td>-0.024038</td>\n",
       "      <td>-1.477690</td>\n",
       "      <td>1.250127</td>\n",
       "      <td>0.219742</td>\n",
       "      <td>-0.1318</td>\n",
       "      <td>-0.171891</td>\n",
       "      <td>2018</td>\n",
       "      <td>29</td>\n",
       "      <td>False</td>\n",
       "      <td>True</td>\n",
       "      <td>False</td>\n",
       "      <td>True</td>\n",
       "      <td>True</td>\n",
       "    </tr>\n",
       "    <tr>\n",
       "      <th>8395</th>\n",
       "      <td>19</td>\n",
       "      <td>11</td>\n",
       "      <td>3</td>\n",
       "      <td>-0.140899</td>\n",
       "      <td>-0.600467</td>\n",
       "      <td>-0.313546</td>\n",
       "      <td>-0.933519</td>\n",
       "      <td>-0.311940</td>\n",
       "      <td>-0.655132</td>\n",
       "      <td>-0.1318</td>\n",
       "      <td>-0.171891</td>\n",
       "      <td>2018</td>\n",
       "      <td>15</td>\n",
       "      <td>False</td>\n",
       "      <td>False</td>\n",
       "      <td>False</td>\n",
       "      <td>True</td>\n",
       "      <td>True</td>\n",
       "    </tr>\n",
       "    <tr>\n",
       "      <th>1535</th>\n",
       "      <td>23</td>\n",
       "      <td>2</td>\n",
       "      <td>4</td>\n",
       "      <td>-1.296277</td>\n",
       "      <td>0.529130</td>\n",
       "      <td>0.265470</td>\n",
       "      <td>-0.004646</td>\n",
       "      <td>-0.886229</td>\n",
       "      <td>-0.655132</td>\n",
       "      <td>-0.1318</td>\n",
       "      <td>-0.171891</td>\n",
       "      <td>2018</td>\n",
       "      <td>2</td>\n",
       "      <td>False</td>\n",
       "      <td>False</td>\n",
       "      <td>True</td>\n",
       "      <td>True</td>\n",
       "      <td>True</td>\n",
       "    </tr>\n",
       "    <tr>\n",
       "      <th>5518</th>\n",
       "      <td>22</td>\n",
       "      <td>7</td>\n",
       "      <td>2</td>\n",
       "      <td>1.198669</td>\n",
       "      <td>0.725581</td>\n",
       "      <td>-0.217043</td>\n",
       "      <td>-0.709932</td>\n",
       "      <td>1.364985</td>\n",
       "      <td>-0.655132</td>\n",
       "      <td>-0.1318</td>\n",
       "      <td>-0.171891</td>\n",
       "      <td>2018</td>\n",
       "      <td>18</td>\n",
       "      <td>False</td>\n",
       "      <td>True</td>\n",
       "      <td>False</td>\n",
       "      <td>True</td>\n",
       "      <td>True</td>\n",
       "    </tr>\n",
       "  </tbody>\n",
       "</table>\n",
       "</div>"
      ],
      "text/plain": [
       "      Hour  Month  Weekday  Temperature(°C)_normalized  \\\n",
       "8415    15     11        4                    0.026547   \n",
       "5049     9      6        4                    0.838660   \n",
       "8395    19     11        3                   -0.140899   \n",
       "1535    23      2        4                   -1.296277   \n",
       "5518    22      7        2                    1.198669   \n",
       "\n",
       "      Humidity(%)_normalized  Wind speed (m/s)_normalized  \\\n",
       "8415                0.136227                     2.099021   \n",
       "5049                1.364049                    -0.024038   \n",
       "8395               -0.600467                    -0.313546   \n",
       "1535                0.529130                     0.265470   \n",
       "5518                0.725581                    -0.217043   \n",
       "\n",
       "      Visibility (10m)_normalized  Dew point temperature(°C)_normalized  \\\n",
       "8415                    -1.180122                              0.132177   \n",
       "5049                    -1.477690                              1.250127   \n",
       "8395                    -0.933519                             -0.311940   \n",
       "1535                    -0.004646                             -0.886229   \n",
       "5518                    -0.709932                              1.364985   \n",
       "\n",
       "      Solar Radiation (MJ/m2)_normalized  Rainfall(mm)_normalized  \\\n",
       "8415                            0.530553                  -0.1318   \n",
       "5049                            0.219742                  -0.1318   \n",
       "8395                           -0.655132                  -0.1318   \n",
       "1535                           -0.655132                  -0.1318   \n",
       "5518                           -0.655132                  -0.1318   \n",
       "\n",
       "      Snowfall (cm)_normalized  Year  Day  Seasons_Spring  Seasons_Summer  \\\n",
       "8415                 -0.171891  2018   16           False           False   \n",
       "5049                 -0.171891  2018   29           False            True   \n",
       "8395                 -0.171891  2018   15           False           False   \n",
       "1535                 -0.171891  2018    2           False           False   \n",
       "5518                 -0.171891  2018   18           False            True   \n",
       "\n",
       "      Seasons_Winter  Holiday_No Holiday  Functioning Day_Yes  \n",
       "8415           False                True                 True  \n",
       "5049           False                True                 True  \n",
       "8395           False                True                 True  \n",
       "1535            True                True                 True  \n",
       "5518           False                True                 True  "
      ]
     },
     "execution_count": 79,
     "metadata": {},
     "output_type": "execute_result"
    }
   ],
   "source": [
    "X_train.head() "
   ]
  },
  {
   "cell_type": "markdown",
   "metadata": {},
   "source": [
    "Let's also check that our variables are in the correct formats (continuous, categorical, etc)."
   ]
  },
  {
   "cell_type": "code",
   "execution_count": 80,
   "metadata": {},
   "outputs": [
    {
     "name": "stdout",
     "output_type": "stream",
     "text": [
      "<class 'pandas.core.frame.DataFrame'>\n",
      "Index: 7008 entries, 8415 to 7270\n",
      "Data columns (total 18 columns):\n",
      " #   Column                                Non-Null Count  Dtype  \n",
      "---  ------                                --------------  -----  \n",
      " 0   Hour                                  7008 non-null   int64  \n",
      " 1   Month                                 7008 non-null   int64  \n",
      " 2   Weekday                               7008 non-null   int64  \n",
      " 3   Temperature(°C)_normalized            7008 non-null   float64\n",
      " 4   Humidity(%)_normalized                7008 non-null   float64\n",
      " 5   Wind speed (m/s)_normalized           7008 non-null   float64\n",
      " 6   Visibility (10m)_normalized           7008 non-null   float64\n",
      " 7   Dew point temperature(°C)_normalized  7008 non-null   float64\n",
      " 8   Solar Radiation (MJ/m2)_normalized    7008 non-null   float64\n",
      " 9   Rainfall(mm)_normalized               7008 non-null   float64\n",
      " 10  Snowfall (cm)_normalized              7008 non-null   float64\n",
      " 11  Year                                  7008 non-null   int64  \n",
      " 12  Day                                   7008 non-null   int64  \n",
      " 13  Seasons_Spring                        7008 non-null   bool   \n",
      " 14  Seasons_Summer                        7008 non-null   bool   \n",
      " 15  Seasons_Winter                        7008 non-null   bool   \n",
      " 16  Holiday_No Holiday                    7008 non-null   bool   \n",
      " 17  Functioning Day_Yes                   7008 non-null   bool   \n",
      "dtypes: bool(5), float64(8), int64(5)\n",
      "memory usage: 800.7 KB\n"
     ]
    }
   ],
   "source": [
    "X_train.info() "
   ]
  },
  {
   "cell_type": "markdown",
   "metadata": {},
   "source": [
    "From here, we have the option of either converting variables such as `Weekday` and `Day` into categorical variables, or we can keep them as continuous if we suspect certain trends to occur from day to day. For now, we keep them as continuous variables but we can go back and check the analyses if we treat these variables as categorical."
   ]
  },
  {
   "cell_type": "markdown",
   "metadata": {},
   "source": [
    "Let's now train our random forest model! Here we will do a vanilla RF without tuning the number of regression tree splits and other parameters and so we don't use cross validation at the moment. Random forests are quite robust to the choice of tuning parameters and so they can serve as a good baseline."
   ]
  },
  {
   "cell_type": "code",
   "execution_count": 81,
   "metadata": {},
   "outputs": [
    {
     "name": "stdout",
     "output_type": "stream",
     "text": [
      "Random Forest RMSE: 172.611079921699\n"
     ]
    }
   ],
   "source": [
    "from sklearn.ensemble import RandomForestRegressor\n",
    "from sklearn.metrics import mean_squared_error, r2_score\n",
    "import warnings\n",
    "\n",
    "# Train the RF \n",
    "rf_model = RandomForestRegressor(n_estimators=500, random_state=3)\n",
    "rf_model.fit(X_train, y_train)\n",
    "\n",
    "\n",
    "# Sometimes FutureWarnings are thrown when using mean_squared_error. We can safely ignore these.\n",
    "import warnings\n",
    "warnings.simplefilter(action='ignore', category=FutureWarning)\n",
    "\n",
    "\n",
    "# Make predictions \n",
    "y_pred_rf = rf_model.predict(X_test)\n",
    "print(f'Random Forest RMSE: {mean_squared_error(y_test, y_pred_rf, squared=False)}')"
   ]
  },
  {
   "cell_type": "markdown",
   "metadata": {},
   "source": [
    "The root mean squared error (RMSE) for the random forest is displayed above. Before moving on to XGBoost, let's do a quick analysis of the relative feature importance based on the output of our trained random forest."
   ]
  },
  {
   "cell_type": "code",
   "execution_count": 82,
   "metadata": {},
   "outputs": [
    {
     "data": {
      "image/png": "[encoded data removed]",
      "text/plain": [
       "<Figure size 1000x600 with 1 Axes>"
      ]
     },
     "metadata": {},
     "output_type": "display_data"
    }
   ],
   "source": [
    "import pandas as pd\n",
    "import matplotlib.pyplot as plt\n",
    "\n",
    "feature_importances = rf_model.feature_importances_\n",
    "feature_importance_df = pd.DataFrame({\n",
    "    'Feature': X.columns,\n",
    "    'Importance': feature_importances\n",
    "}).sort_values(by='Importance', ascending=False)\n",
    "\n",
    "plt.figure(figsize=(10, 6))\n",
    "plt.barh(feature_importance_df['Feature'], feature_importance_df['Importance'])\n",
    "plt.xlabel('Importance')\n",
    "plt.title('Feature Importance from Random Forest')\n",
    "plt.gca().invert_yaxis()\n",
    "plt.show()"
   ]
  },
  {
   "cell_type": "markdown",
   "metadata": {},
   "source": [
    "As we predicted from Part 1 in our exploratory data analysis, we see that indeed `Temperature` and `Hour` are among the most important predictors! Let's move on to XGBoost."
   ]
  },
  {
   "cell_type": "code",
   "execution_count": 83,
   "metadata": {},
   "outputs": [
    {
     "name": "stdout",
     "output_type": "stream",
     "text": [
      "XGBoost RMSE: 150.04288583945865\n"
     ]
    }
   ],
   "source": [
    "from xgboost import XGBRegressor\n",
    "\n",
    "# Train XGBoost\n",
    "xgb_model = XGBRegressor(n_estimators=500, learning_rate=0.1, random_state=3)\n",
    "xgb_model.fit(X_train, y_train)\n",
    "\n",
    "# Make predictions\n",
    "y_pred_xgb = xgb_model.predict(X_test)\n",
    "print(f'XGBoost RMSE: {mean_squared_error(y_test, y_pred_xgb, squared=False)}')"
   ]
  },
  {
   "cell_type": "markdown",
   "metadata": {},
   "source": [
    "The RMSE for XGBoost is slightly lower for XGBoost than for the random forest. For XGBoost, tuning the hyperparameters is more important than for the random forest. We could do cross-validation to find potentially optimal sets of hyperparameters (such as the learning rate), but here we just do a quick analysis of the various algorithms at close to default settings. Let's look at the feature importance plot for XGBoost. "
   ]
  },
  {
   "cell_type": "code",
   "execution_count": 84,
   "metadata": {},
   "outputs": [
    {
     "data": {
      "image/png": "[encoded data removed]",
      "text/plain": [
       "<Figure size 640x480 with 1 Axes>"
      ]
     },
     "metadata": {},
     "output_type": "display_data"
    }
   ],
   "source": [
    "from xgboost import plot_importance\n",
    "plot_importance(xgb_model, max_num_features=10)\n",
    "plt.title('XGBoost Feature Importance')\n",
    "plt.show()"
   ]
  },
  {
   "cell_type": "markdown",
   "metadata": {},
   "source": [
    "The results look similar to that of the random forest figure. Let's now use PyTorch to train a neural network and see how this approach performs.\n",
    "We will use two hidden layers with 64 and 32 neurons each. We also use the ReLU activation function. Again, ideally we would perform a lot of experimentation with different parameter settings (+ cross-validation) for the neural network, but for now we will just do a quick analysis for a neural network initialized at reasonable settings."
   ]
  },
  {
   "cell_type": "code",
   "execution_count": 85,
   "metadata": {},
   "outputs": [],
   "source": [
    "import torch\n",
    "import torch.nn as nn\n",
    "import torch.optim as optim\n",
    "from torch.utils.data import DataLoader, TensorDataset\n",
    "\n",
    "# Let's use only numerical features with this NN and drop if not possible\n",
    "X_train2 = X_train.apply(pd.to_numeric, errors='coerce')\n",
    "X_test2 = X_test.apply(pd.to_numeric, errors='coerce')\n",
    "X_train2 = X_train2.fillna(0)\n",
    "X_test2 = X_test2.fillna(0)\n",
    "X_train2 = X_train2.astype({col: 'int' for col in X_train2.select_dtypes('bool').columns}) # convert bool to int\n",
    "X_test2 = X_test2.astype({col: 'int' for col in X_test2.select_dtypes('bool').columns})\n",
    "\n",
    "X_train_tensor = torch.tensor(X_train2.values, dtype=torch.float32)\n",
    "y_train_tensor = torch.tensor(y_train.values, dtype=torch.float32).view(-1, 1) # \"-1\" automatically reshapes the first coordinate\n",
    "X_test_tensor = torch.tensor(X_test2.values, dtype=torch.float32)\n",
    "y_test_tensor = torch.tensor(y_test.values, dtype=torch.float32).view(-1, 1)\n",
    "\n",
    "train_dataset = TensorDataset(X_train_tensor, y_train_tensor)\n",
    "train_loader = DataLoader(train_dataset, batch_size=32, shuffle=True) # use a batch size of 32\n",
    "\n",
    "# Define NN\n",
    "class NeuralNet(nn.Module):\n",
    "    def __init__(self, input_dim):\n",
    "        super(NeuralNet, self).__init__()\n",
    "        self.layer1 = nn.Linear(input_dim, 64) # 64 and 32 neurons in the hidden layers\n",
    "        self.layer2 = nn.Linear(64, 32)\n",
    "        self.output = nn.Linear(32, 1)\n",
    "\n",
    "    def forward(self, x):\n",
    "        x = torch.relu(self.layer1(x))\n",
    "        x = torch.relu(self.layer2(x))\n",
    "        x = self.output(x)\n",
    "        return x"
   ]
  },
  {
   "cell_type": "markdown",
   "metadata": {},
   "source": [
    "Having defined our model, we now train it using the Adam optimizer with reasonable learning rate parameters based on previous work."
   ]
  },
  {
   "cell_type": "code",
   "execution_count": 86,
   "metadata": {},
   "outputs": [
    {
     "name": "stdout",
     "output_type": "stream",
     "text": [
      "Neural Network RMSE: 422.30792236328125\n",
      "Neural Network RMSE: 428.32537841796875\n",
      "Neural Network RMSE: 368.7131652832031\n",
      "Neural Network RMSE: 329.18756103515625\n",
      "Neural Network RMSE: 332.21136474609375\n",
      "Neural Network RMSE: 316.8725280761719\n",
      "Neural Network RMSE: 314.76556396484375\n",
      "Neural Network RMSE: 315.157958984375\n",
      "Neural Network RMSE: 291.5444641113281\n",
      "Neural Network RMSE: 298.4510192871094\n"
     ]
    }
   ],
   "source": [
    "# Initialize model, loss function, and optimizer\n",
    "model = NeuralNet(X_train_tensor.shape[1])\n",
    "criterion = nn.MSELoss()\n",
    "optimizer = optim.Adam(model.parameters(), lr=0.001)\n",
    "\n",
    "# Training loop\n",
    "for epoch_group in range(10):\n",
    "    for epoch in range(50):\n",
    "        for X_batch, y_batch in train_loader:\n",
    "            # Zero the gradients\n",
    "            optimizer.zero_grad()\n",
    "            # Forward pass\n",
    "            predictions = model(X_batch)\n",
    "            # Compute loss\n",
    "            loss = criterion(predictions, y_batch)\n",
    "            # Backward pass and update weights\n",
    "            loss.backward()\n",
    "            optimizer.step()\n",
    "    \n",
    "    # Evaluate the model\n",
    "    model.eval()\n",
    "    with torch.no_grad():\n",
    "        y_pred_nn = model(X_test_tensor).numpy()\n",
    "        print(f'Neural Network RMSE: {mean_squared_error(y_test_tensor, y_pred_nn, squared=False)}')"
   ]
  },
  {
   "cell_type": "markdown",
   "metadata": {},
   "source": [
    "We see the training loss going down as we proceed. The current choice of neural network parameters (and Adam parameters) may or may not be optimal. We could have tried different values and use cross validation with the training set instead of the test set, but XGBoost should give fairly reasonable results with minimal tuning effort."
   ]
  },
  {
   "cell_type": "markdown",
   "metadata": {},
   "source": [
    "\n",
    "## Deployment"
   ]
  },
  {
   "cell_type": "markdown",
   "metadata": {},
   "source": [
    "Having chosen the XGBoost model, let's save it and make it ready for deployment!"
   ]
  },
  {
   "cell_type": "code",
   "execution_count": 87,
   "metadata": {},
   "outputs": [
    {
     "data": {
      "text/plain": [
       "['xgboost_model.pkl']"
      ]
     },
     "execution_count": 87,
     "metadata": {},
     "output_type": "execute_result"
    }
   ],
   "source": [
    "import joblib\n",
    "joblib.dump(xgb_model, 'xgboost_model.pkl')"
   ]
  },
  {
   "cell_type": "markdown",
   "metadata": {},
   "source": [
    "After this stage we can deploy our model. More information coming soon in the (future) third part of our notebook series!"
   ]
  }
 ],
 "metadata": {
  "kernelspec": {
   "display_name": "Python 3",
   "language": "python",
   "name": "python3"
  },
  "language_info": {
   "codemirror_mode": {
    "name": "ipython",
    "version": 3
   },
   "file_extension": ".py",
   "mimetype": "text/x-python",
   "name": "python",
   "nbconvert_exporter": "python",
   "pygments_lexer": "ipython3",
   "version": "3.12.5"
  }
 },
 "nbformat": 4,
 "nbformat_minor": 2
}
